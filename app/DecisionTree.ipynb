{
 "cells": [
  {
   "cell_type": "code",
   "execution_count": 17,
   "metadata": {
    "collapsed": false
   },
   "outputs": [
    {
     "name": "stdout",
     "output_type": "stream",
     "text": [
      "/home/zhb/Desktop/work/DecisionTreeShareProject/app/sample_libsvm_data.txt\n",
      "train data count: 82\n",
      "test data count : 18\n",
      "Decision Tree Test Error = 0.000%\n",
      "Decision Tree Learned classifiction tree model : \n",
      "DecisionTreeModel classifier of depth 2 with 5 nodes\n",
      "  If (feature 434 <= 0.0)\n",
      "   If (feature 100 <= 165.0)\n",
      "    Predict: 0.0\n",
      "   Else (feature 100 > 165.0)\n",
      "    Predict: 1.0\n",
      "  Else (feature 434 > 0.0)\n",
      "   Predict: 1.0\n",
      "\n"
     ]
    }
   ],
   "source": [
    "# 决策树分类器训练及预测\n",
    "from pyspark.mllib.tree import DecisionTree,DecisionTreeModel\n",
    "from pyspark.mllib.util import MLUtils\n",
    "dataPath = \"/home/zhb/Desktop/work/DecisionTreeShareProject/app/sample_libsvm_data.txt\"\n",
    "print dataPath\n",
    "\n",
    "data = MLUtils.loadLibSVMFile(sc,dataPath)\n",
    "(trainingData,testData) = data.randomSplit([0.7,0.3])\n",
    "print \"train data count: \" + str(trainingData.count())\n",
    "print \"test data count : \" + str(testData.count())\n",
    "# 训练决策树分类器\n",
    "# categoricalFeaturesInfo 为空，表示所有的特征均为连续值\n",
    "model = DecisionTree.trainClassifier(trainingData,numClasses = 2,categoricalFeaturesInfo = {},impurity='gini',maxDepth = 4,maxBins = 32)\n",
    "# 测试数据集上预测\n",
    "predictions = model.predict(testData.map(lambda x:x.features))\n",
    "# 打包真实值与预测值\n",
    "labelsAndPredictions = testData.map(lambda lp:lp.label).zip(predictions)\n",
    "# 统计预测错误的样本的频率\n",
    "testErr = labelsAndPredictions.filter(lambda (v,p): v != p).count() / float(testData.count())\n",
    "print('Decision Tree Test Error = %5.3f%%'%(testErr*100))\n",
    "print(\"Decision Tree Learned classifiction tree model : \")\n",
    "print(model.toDebugString())"
   ]
  },
  {
   "cell_type": "code",
   "execution_count": 18,
   "metadata": {
    "collapsed": false
   },
   "outputs": [
    {
     "name": "stdout",
     "output_type": "stream",
     "text": [
      "Random Forest Test Error = 0.000%\n",
      "RandomForest Learned classifiction tree model : \n",
      "TreeEnsembleModel classifier with 3 trees\n",
      "\n",
      "  Tree 0:\n",
      "    If (feature 484 <= 0.0)\n",
      "     If (feature 518 <= 0.0)\n",
      "      If (feature 241 <= 245.0)\n",
      "       Predict: 0.0\n",
      "      Else (feature 241 > 245.0)\n",
      "       Predict: 1.0\n",
      "     Else (feature 518 > 0.0)\n",
      "      Predict: 1.0\n",
      "    Else (feature 484 > 0.0)\n",
      "     Predict: 0.0\n",
      "  Tree 1:\n",
      "    If (feature 497 <= 0.0)\n",
      "     If (feature 384 <= 0.0)\n",
      "      If (feature 378 <= 0.0)\n",
      "       Predict: 0.0\n",
      "      Else (feature 378 > 0.0)\n",
      "       Predict: 1.0\n",
      "     Else (feature 384 > 0.0)\n",
      "      Predict: 0.0\n",
      "    Else (feature 497 > 0.0)\n",
      "     Predict: 0.0\n",
      "  Tree 2:\n",
      "    If (feature 317 <= 0.0)\n",
      "     If (feature 433 <= 0.0)\n",
      "      Predict: 0.0\n",
      "     Else (feature 433 > 0.0)\n",
      "      Predict: 1.0\n",
      "    Else (feature 317 > 0.0)\n",
      "     If (feature 216 <= 253.0)\n",
      "      Predict: 0.0\n",
      "     Else (feature 216 > 253.0)\n",
      "      Predict: 1.0\n",
      "\n"
     ]
    }
   ],
   "source": [
    "# 随机森林分类其训练及预测\n",
    "from pyspark.mllib.tree import RandomForest,RandomForestModel\n",
    "# 训练随机森林分类器\n",
    "# categoricalFeaturesInfo 为空，表示所有的特征均为连续值\n",
    "# 实践中使用更多numTrees\n",
    "# 设置featureSubsetStrategy=\"auto\"，让算法来选择\n",
    "RF_Model = RandomForest.trainClassifier(trainingData,numClasses = 2,categoricalFeaturesInfo = {},numTrees = 3,featureSubsetStrategy = \"auto\",impurity = 'gini',maxDepth = 4,maxBins = 32)\n",
    "# 测试数据集上预测\n",
    "RF_Predictions = RF_Model.predict(testData.map(lambda x:x.features))\n",
    "# 打包真实值与预测值\n",
    "RF_LabelsAndPredictions = testData.map(lambda lp:lp.label).zip(RF_Predictions)\n",
    "# 统计预测错误的样本的频率\n",
    "RF_TestErr = RF_LabelsAndPredictions.filter(lambda (v,p): v!= p).count() / float(testData.count())\n",
    "print('Random Forest Test Error = %5.3f%%'%(RF_TestErr*100))\n",
    "print(\"RandomForest Learned classifiction tree model : \")\n",
    "print(RF_Model.toDebugString())"
   ]
  },
  {
   "cell_type": "code",
   "execution_count": 20,
   "metadata": {
    "collapsed": false
   },
   "outputs": [
    {
     "name": "stdout",
     "output_type": "stream",
     "text": [
      "GradientBoosted Trees Test Error = 0.000%\n",
      "GradientBoosted Trees Learned classifiction tree model : \n",
      "TreeEnsembleModel classifier with 3 trees\n",
      "\n",
      "  Tree 0:\n",
      "    If (feature 434 <= 0.0)\n",
      "     If (feature 100 <= 165.0)\n",
      "      Predict: -1.0\n",
      "     Else (feature 100 > 165.0)\n",
      "      Predict: 1.0\n",
      "    Else (feature 434 > 0.0)\n",
      "     Predict: 1.0\n",
      "  Tree 1:\n",
      "    If (feature 434 <= 0.0)\n",
      "     If (feature 351 <= 251.0)\n",
      "      If (feature 162 <= 43.0)\n",
      "       Predict: -0.47681168808847024\n",
      "      Else (feature 162 > 43.0)\n",
      "       Predict: -0.4768116880884712\n",
      "     Else (feature 351 > 251.0)\n",
      "      Predict: 0.4768116880884712\n",
      "    Else (feature 434 > 0.0)\n",
      "     If (feature 348 <= 0.0)\n",
      "      If (feature 296 <= 196.0)\n",
      "       Predict: 0.47681168808847024\n",
      "      Else (feature 296 > 196.0)\n",
      "       Predict: 0.4768116880884703\n",
      "     Else (feature 348 > 0.0)\n",
      "      Predict: 0.4768116880884712\n",
      "  Tree 2:\n",
      "    If (feature 434 <= 0.0)\n",
      "     If (feature 435 <= 0.0)\n",
      "      Predict: -0.43819358104272066\n",
      "     Else (feature 435 > 0.0)\n",
      "      Predict: 0.43819358104271977\n",
      "    Else (feature 434 > 0.0)\n",
      "     If (feature 348 <= 152.0)\n",
      "      Predict: 0.4381935810427207\n",
      "     Else (feature 348 > 152.0)\n",
      "      Predict: 0.43819358104272155\n",
      "\n"
     ]
    }
   ],
   "source": [
    "# GBDT分类器训练及预测\n",
    "from pyspark.mllib.tree import GradientBoostedTrees, GradientBoostedTreesModel\n",
    "\n",
    "# 训练GBDT分类器\n",
    "# categoricalFeaturesInfo 为空，表示所有的特征均为连续值\n",
    "# 实践中使用更多的numIterations\n",
    "GBDT_Model = GradientBoostedTrees.trainClassifier(trainingData,categoricalFeaturesInfo = {},numIterations = 3)\n",
    "# 测试数据集上预测\n",
    "GBDT_Predictions = GBDT_Model.predict(testData.map(lambda x:x.features))\n",
    "# 打包真实值与预测值\n",
    "GBDT_LabelsAndPredictions = testData.map(lambda lp:lp.label).zip(GBDT_Predictions)\n",
    "# 统计预测错误的样本的频率\n",
    "GBDT_TestErr = GBDT_LabelsAndPredictions.filter(lambda (v,p): v != p).count() / float(testData.count())\n",
    "print('GradientBoosted Trees Test Error = %5.3f%%'%(GBDT_TestErr*100))\n",
    "print(\"GradientBoosted Trees Learned classifiction tree model : \")\n",
    "print(GBDT_Model.toDebugString())"
   ]
  },
  {
   "cell_type": "code",
   "execution_count": null,
   "metadata": {
    "collapsed": true
   },
   "outputs": [],
   "source": []
  }
 ],
 "metadata": {
  "kernelspec": {
   "display_name": "Python 2",
   "language": "python",
   "name": "python2"
  },
  "language_info": {
   "codemirror_mode": {
    "name": "ipython",
    "version": 2
   },
   "file_extension": ".py",
   "mimetype": "text/x-python",
   "name": "python",
   "nbconvert_exporter": "python",
   "pygments_lexer": "ipython2",
   "version": "2.7.6"
  }
 },
 "nbformat": 4,
 "nbformat_minor": 0
}
